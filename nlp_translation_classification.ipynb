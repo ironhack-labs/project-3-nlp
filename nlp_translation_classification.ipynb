{
 "cells": [
  {
   "cell_type": "markdown",
   "id": "4a32bb4e",
   "metadata": {},
   "source": [
    "# **NLP Classification: Human vs. Machine Translation**\n",
    "## **Objective:**\n",
    "This project aims to classify Spanish sentences as either:\n",
    "- **0 (Machine-translated)**\n",
    "- **1 (Human-translated)**\n",
    "\n",
    "We will preprocess text, extract features, and train a classifier."
   ]
  },
  {
   "cell_type": "markdown",
   "id": "2ccc0231",
   "metadata": {},
   "source": [
    "## **1. Import Libraries**"
   ]
  },
  {
   "cell_type": "code",
   "execution_count": 1,
   "id": "70ae7a0c",
   "metadata": {},
   "outputs": [],
   "source": [
    "import numpy as np\n",
    "import pandas as pd\n",
    "import matplotlib.pyplot as plt\n",
    "import seaborn as sns\n",
    "import nltk\n",
    "import spacy\n",
    "import torch\n",
    "from sklearn.model_selection import train_test_split\n",
    "from sklearn.feature_extraction.text import TfidfVectorizer\n",
    "from sklearn.linear_model import LogisticRegression\n",
    "from sklearn.metrics import accuracy_score, classification_report, confusion_matrix"
   ]
  },
  {
   "cell_type": "markdown",
   "id": "d62949d5",
   "metadata": {},
   "source": [
    "## **2. Load & Explore Dataset**"
   ]
  },
  {
   "cell_type": "code",
   "execution_count": 2,
   "id": "c61728d4",
   "metadata": {},
   "outputs": [],
   "source": [
    "# Load dataset\n",
    "data_path = \"TRAINING_DATA.txt\"  \n",
    "\n",
    "df = pd.read_csv(data_path, sep=\"\\t\", header=None, names=[\"label\", \"text\"], encoding=\"utf-8\")\n",
    "\n"
   ]
  },
  {
   "cell_type": "code",
   "execution_count": 3,
   "id": "ccb8f3a6",
   "metadata": {},
   "outputs": [
    {
     "name": "stdout",
     "output_type": "stream",
     "text": [
      "Average Sentence Length: 28.89 words\n",
      "Max Length: 1403.00 words\n",
      "Min Length: 3.00 words\n"
     ]
    },
    {
     "data": {
      "image/png": "[encoded data removed]",
      "text/plain": [
       "<Figure size 800x600 with 1 Axes>"
      ]
     },
     "metadata": {},
     "output_type": "display_data"
    }
   ],
   "source": [
    "# # Check dataset info\n",
    "# df.info()\n",
    "# # Check label distribution\n",
    "# sns.countplot(x=df['label'])\n",
    "# plt.show()\n",
    "\n",
    "# Calculate sentence lengths (split by spaces)\n",
    "sentence_lengths = df['text'].astype(str).apply(lambda x: len(x.split()))\n",
    "\n",
    "# Compute the average sentence length\n",
    "avg_length = sentence_lengths.mean()\n",
    "max_length = sentence_lengths.max()\n",
    "min_length = sentence_lengths.min()\n",
    "\n",
    "print(f\"Average Sentence Length: {avg_length:.2f} words\")\n",
    "print(f\"Max Length: {max_length:.2f} words\")\n",
    "print(f\"Min Length: {min_length:.2f} words\")\n",
    "\n",
    "\n",
    "# Generate the histogram\n",
    "plt.figure(figsize=(8, 6))\n",
    "plt.hist(sentence_lengths, bins=20, edgecolor='black', alpha=0.7)\n",
    "plt.xlabel('Sentence Length (Words)')\n",
    "plt.ylabel('Frequency')\n",
    "plt.title('Histogram of Sentence Lengths')\n",
    "plt.grid(axis='y', linestyle='--', alpha=0.7)\n",
    "\n",
    "# Show the plot\n",
    "plt.show()\n",
    "\n"
   ]
  },
  {
   "cell_type": "markdown",
   "id": "87cf1089",
   "metadata": {},
   "source": [
    "### same number of trainings. \n",
    "\n",
    " 0   label   14924 non-null  int64 \n",
    " 1   text    14924 non-null  object\n",
    "dtypes: int64(1), object(1)"
   ]
  },
  {
   "cell_type": "markdown",
   "id": "7f003628",
   "metadata": {},
   "source": [
    "## **3. Text Preprocessing**"
   ]
  },
  {
   "cell_type": "code",
   "execution_count": null,
   "id": "98a9bd2b",
   "metadata": {},
   "outputs": [
    {
     "data": {
      "text/html": [
       "<div>\n",
       "<style scoped>\n",
       "    .dataframe tbody tr th:only-of-type {\n",
       "        vertical-align: middle;\n",
       "    }\n",
       "\n",
       "    .dataframe tbody tr th {\n",
       "        vertical-align: top;\n",
       "    }\n",
       "\n",
       "    .dataframe thead th {\n",
       "        text-align: right;\n",
       "    }\n",
       "</style>\n",
       "<table border=\"1\" class=\"dataframe\">\n",
       "  <thead>\n",
       "    <tr style=\"text-align: right;\">\n",
       "      <th></th>\n",
       "      <th>label</th>\n",
       "      <th>text</th>\n",
       "      <th>text_no_accents</th>\n",
       "      <th>clean_text</th>\n",
       "    </tr>\n",
       "  </thead>\n",
       "  <tbody>\n",
       "    <tr>\n",
       "      <th>0</th>\n",
       "      <td>1</td>\n",
       "      <td>Cuando conocí a Janice en 2013 , una familia n...</td>\n",
       "      <td>Cuando conoci a Janice en 2013 , una familia n...</td>\n",
       "      <td>conoci janice familia necesitar punto promedio...</td>\n",
       "    </tr>\n",
       "    <tr>\n",
       "      <th>1</th>\n",
       "      <td>0</td>\n",
       "      <td>Hwang habló en Sur de este año por Southwest M...</td>\n",
       "      <td>Hwang hablo en Sur de este ano por Southwest M...</td>\n",
       "      <td>hwang hablar sur ano southwest music and media...</td>\n",
       "    </tr>\n",
       "    <tr>\n",
       "      <th>2</th>\n",
       "      <td>1</td>\n",
       "      <td>Usted podría pensar Katy Perry y Robert Pattin...</td>\n",
       "      <td>Usted podria pensar Katy Perry y Robert Pattin...</td>\n",
       "      <td>pensar katy perry robert pattinson reencontrar...</td>\n",
       "    </tr>\n",
       "    <tr>\n",
       "      <th>3</th>\n",
       "      <td>1</td>\n",
       "      <td>Cualquiera que haya volado los cielos del crea...</td>\n",
       "      <td>Cualquiera que haya volado los cielos del crea...</td>\n",
       "      <td>cualquiera volar cielo creador escuchar acto p...</td>\n",
       "    </tr>\n",
       "    <tr>\n",
       "      <th>4</th>\n",
       "      <td>1</td>\n",
       "      <td>Bueno , este cantante tendrá un LARGO tiempo p...</td>\n",
       "      <td>Bueno , este cantante tendra un LARGO tiempo p...</td>\n",
       "      <td>cantante tendrar tiempo sentir remordimiento p...</td>\n",
       "    </tr>\n",
       "  </tbody>\n",
       "</table>\n",
       "</div>"
      ],
      "text/plain": [
       "   label                                               text  \\\n",
       "0      1  Cuando conocí a Janice en 2013 , una familia n...   \n",
       "1      0  Hwang habló en Sur de este año por Southwest M...   \n",
       "2      1  Usted podría pensar Katy Perry y Robert Pattin...   \n",
       "3      1  Cualquiera que haya volado los cielos del crea...   \n",
       "4      1  Bueno , este cantante tendrá un LARGO tiempo p...   \n",
       "\n",
       "                                     text_no_accents  \\\n",
       "0  Cuando conoci a Janice en 2013 , una familia n...   \n",
       "1  Hwang hablo en Sur de este ano por Southwest M...   \n",
       "2  Usted podria pensar Katy Perry y Robert Pattin...   \n",
       "3  Cualquiera que haya volado los cielos del crea...   \n",
       "4  Bueno , este cantante tendra un LARGO tiempo p...   \n",
       "\n",
       "                                          clean_text  \n",
       "0  conoci janice familia necesitar punto promedio...  \n",
       "1  hwang hablar sur ano southwest music and media...  \n",
       "2  pensar katy perry robert pattinson reencontrar...  \n",
       "3  cualquiera volar cielo creador escuchar acto p...  \n",
       "4  cantante tendrar tiempo sentir remordimiento p...  "
      ]
     },
     "execution_count": 4,
     "metadata": {},
     "output_type": "execute_result"
    }
   ],
   "source": [
    "import unidecode\n",
    "\n",
    "# remove accents and ñÑ, etc. \n",
    "df['text_no_accents'] = df['text'].apply(unidecode.unidecode)\n",
    "\n",
    "# Load SpaCy Spanish model\n",
    "nlp = spacy.load('es_core_news_lg')\n",
    "def preprocess_text(text):\n",
    "    # process the Text with spacy\n",
    "    doc = nlp(text.lower())\n",
    "    # Filter and Lemmatize Tokens\n",
    "    tokens = [token.lemma_ for token in doc if not token.is_stop and token.is_alpha]\n",
    "    return ' '.join(tokens)\n",
    "\n",
    "\n",
    "df['clean_text'] = df['text_no_accents'].apply(preprocess_text)\n",
    "df.head()"
   ]
  },
  {
   "cell_type": "markdown",
   "id": "fbcf9cb5",
   "metadata": {},
   "source": [
    "## **4. Feature Extraction**"
   ]
  },
  {
   "cell_type": "code",
   "execution_count": 5,
   "id": "2d5b71c0",
   "metadata": {},
   "outputs": [],
   "source": [
    "vectorizer = TfidfVectorizer()\n",
    "X = vectorizer.fit_transform(df['clean_text'])\n",
    "y = df['label']\n",
    "X_train, X_test, y_train, y_test = train_test_split(X, y, test_size=0.2, random_state=42)"
   ]
  },
  {
   "cell_type": "markdown",
   "id": "5514e2fa",
   "metadata": {},
   "source": [
    "## **5. Model Training & Evaluation**"
   ]
  },
  {
   "cell_type": "code",
   "execution_count": 6,
   "id": "dcfce154",
   "metadata": {},
   "outputs": [
    {
     "name": "stdout",
     "output_type": "stream",
     "text": [
      "Accuracy: 0.40067001675041874\n",
      "              precision    recall  f1-score   support\n",
      "\n",
      "           0       0.40      0.40      0.40      1504\n",
      "           1       0.40      0.40      0.40      1481\n",
      "\n",
      "    accuracy                           0.40      2985\n",
      "   macro avg       0.40      0.40      0.40      2985\n",
      "weighted avg       0.40      0.40      0.40      2985\n",
      "\n"
     ]
    }
   ],
   "source": [
    "model = LogisticRegression()\n",
    "model.fit(X_train, y_train)\n",
    "y_pred = model.predict(X_test)\n",
    "print('Accuracy:', accuracy_score(y_test, y_pred))\n",
    "print(classification_report(y_test, y_pred))"
   ]
  },
  {
   "cell_type": "code",
   "execution_count": 7,
   "id": "7f779d10",
   "metadata": {},
   "outputs": [
    {
     "data": {
      "image/png": "[encoded data removed]",
      "text/plain": [
       "<Figure size 500x500 with 2 Axes>"
      ]
     },
     "metadata": {},
     "output_type": "display_data"
    }
   ],
   "source": [
    "plt.figure(figsize=(5,5))\n",
    "sns.heatmap(confusion_matrix(y_test, y_pred), annot=True, fmt='d', cmap='Blues')\n",
    "plt.xlabel('Predicted')\n",
    "plt.ylabel('Actual')\n",
    "plt.title('Confusion Matrix')\n",
    "plt.show()"
   ]
  },
  {
   "cell_type": "code",
   "execution_count": 8,
   "id": "d25c6a50",
   "metadata": {},
   "outputs": [
    {
     "name": "stderr",
     "output_type": "stream",
     "text": [
      "c:\\Users\\dbigman\\OneDrive - SUDOC LLC\\Desktop\\GitHub\\Ironhack_bootcamp\\project-3-nlp\\nlp_env\\lib\\site-packages\\keras\\src\\layers\\core\\dense.py:87: UserWarning: Do not pass an `input_shape`/`input_dim` argument to a layer. When using Sequential models, prefer using an `Input(shape)` object as the first layer in the model instead.\n",
      "  super().__init__(activity_regularizer=activity_regularizer, **kwargs)\n"
     ]
    },
    {
     "name": "stdout",
     "output_type": "stream",
     "text": [
      "Epoch 1/50\n",
      "\u001b[1m299/299\u001b[0m \u001b[32m━━━━━━━━━━━━━━━━━━━━\u001b[0m\u001b[37m\u001b[0m \u001b[1m2s\u001b[0m 5ms/step - accuracy: 0.5039 - loss: 0.6935 - val_accuracy: 0.4992 - val_loss: 0.6938\n",
      "Epoch 2/50\n",
      "\u001b[1m299/299\u001b[0m \u001b[32m━━━━━━━━━━━━━━━━━━━━\u001b[0m\u001b[37m\u001b[0m \u001b[1m1s\u001b[0m 5ms/step - accuracy: 0.5408 - loss: 0.6901 - val_accuracy: 0.4430 - val_loss: 0.7060\n",
      "Epoch 3/50\n",
      "\u001b[1m299/299\u001b[0m \u001b[32m━━━━━━━━━━━━━━━━━━━━\u001b[0m\u001b[37m\u001b[0m \u001b[1m1s\u001b[0m 4ms/step - accuracy: 0.6195 - loss: 0.6624 - val_accuracy: 0.4121 - val_loss: 0.7476\n",
      "Epoch 4/50\n",
      "\u001b[1m299/299\u001b[0m \u001b[32m━━━━━━━━━━━━━━━━━━━━\u001b[0m\u001b[37m\u001b[0m \u001b[1m1s\u001b[0m 4ms/step - accuracy: 0.6826 - loss: 0.6092 - val_accuracy: 0.3999 - val_loss: 0.8225\n",
      "\u001b[1m94/94\u001b[0m \u001b[32m━━━━━━━━━━━━━━━━━━━━\u001b[0m\u001b[37m\u001b[0m \u001b[1m0s\u001b[0m 1ms/step - accuracy: 0.4952 - loss: 0.6940\n",
      "Test Accuracy: 0.50\n"
     ]
    },
    {
     "data": {
      "image/png": "[encoded data removed]",
      "text/plain": [
       "<Figure size 1000x500 with 1 Axes>"
      ]
     },
     "metadata": {},
     "output_type": "display_data"
    }
   ],
   "source": [
    "import numpy as np\n",
    "import pandas as pd\n",
    "from sklearn.model_selection import train_test_split\n",
    "from sklearn.feature_extraction.text import TfidfVectorizer\n",
    "from sklearn.preprocessing import LabelEncoder\n",
    "from tensorflow.keras.models import Sequential\n",
    "from tensorflow.keras.layers import Dense, Dropout\n",
    "from tensorflow.keras.utils import to_categorical\n",
    "from tensorflow.keras.callbacks import EarlyStopping\n",
    "\n",
    "\n",
    "# Step 1: Prepare the data\n",
    "# Convert text to TF-IDF features\n",
    "vectorizer = TfidfVectorizer(max_features=5000)  # Limit to top 5000 features for simplicity\n",
    "X = vectorizer.fit_transform(df['clean_text']).toarray()\n",
    "\n",
    "# Encode labels (0 or 1)\n",
    "label_encoder = LabelEncoder()\n",
    "y = label_encoder.fit_transform(df['label'])  # Convert labels to 0/1\n",
    "\n",
    "# Split into training and testing sets\n",
    "X_train, X_test, y_train, y_test = train_test_split(X, y, test_size=0.2, random_state=42)\n",
    "\n",
    "# Step 2: Build the Neural Network\n",
    "model = Sequential([\n",
    "    Dense(128, input_dim=X_train.shape[1], activation='relu'),  # First hidden layer\n",
    "    Dropout(0.5),  # Prevent overfitting\n",
    "    Dense(64, activation='relu'),  # Second hidden layer\n",
    "    Dropout(0.5),  # Prevent overfitting\n",
    "    Dense(1, activation='sigmoid')  # Output layer for binary classification\n",
    "])\n",
    "\n",
    "# Compile the model\n",
    "model.compile(optimizer='adam', loss='binary_crossentropy', metrics=['accuracy'])\n",
    "\n",
    "early_stopping = EarlyStopping(monitor='val_accuracy', patience=3, restore_best_weights=True)\n",
    "\n",
    "history = model.fit(\n",
    "    X_train, y_train,\n",
    "    epochs=50,  # Use more epochs to allow early stopping\n",
    "    batch_size=32,\n",
    "    validation_split=0.2,\n",
    "    callbacks=[early_stopping],\n",
    "    verbose=1\n",
    ")\n",
    "\n",
    "# Step 4: Evaluate the Model\n",
    "test_loss, test_accuracy = model.evaluate(X_test, y_test)\n",
    "print(f\"Test Accuracy: {test_accuracy:.2f}\")\n",
    "\n",
    "# Step 5: Visualize Training History\n",
    "import matplotlib.pyplot as plt\n",
    "\n",
    "plt.figure(figsize=(10, 5))\n",
    "plt.plot(history.history['accuracy'], label='Train Accuracy')\n",
    "plt.plot(history.history['val_accuracy'], label='Validation Accuracy')\n",
    "plt.xlabel('Epochs')\n",
    "plt.ylabel('Accuracy')\n",
    "plt.title('Training and Validation Accuracy')\n",
    "plt.legend()\n",
    "plt.show()\n"
   ]
  },
  {
   "cell_type": "markdown",
   "id": "540d87c0",
   "metadata": {},
   "source": [
    "Results aren't fantastic. "
   ]
  },
  {
   "cell_type": "markdown",
   "id": "60a9a3d6",
   "metadata": {},
   "source": [
    "## We will try a Pre-Trained Spanish BERT Model\n"
   ]
  },
  {
   "cell_type": "code",
   "execution_count": null,
   "id": "41b62946",
   "metadata": {},
   "outputs": [
    {
     "name": "stderr",
     "output_type": "stream",
     "text": [
      "Some weights of BertForSequenceClassification were not initialized from the model checkpoint at dccuchile/bert-base-spanish-wwm-cased and are newly initialized: ['bert.pooler.dense.bias', 'bert.pooler.dense.weight', 'classifier.bias', 'classifier.weight']\n",
      "You should probably TRAIN this model on a down-stream task to be able to use it for predictions and inference.\n",
      "c:\\Users\\dbigman\\OneDrive - SUDOC LLC\\Desktop\\GitHub\\Ironhack_bootcamp\\project-3-nlp\\nlp_env\\lib\\site-packages\\transformers\\training_args.py:1575: FutureWarning: `evaluation_strategy` is deprecated and will be removed in version 4.46 of 🤗 Transformers. Use `eval_strategy` instead\n",
      "  warnings.warn(\n"
     ]
    },
    {
     "data": {
      "text/html": [
       "\n",
       "    <div>\n",
       "      \n",
       "      <progress value='2241' max='2241' style='width:300px; height:20px; vertical-align: middle;'></progress>\n",
       "      [2241/2241 2:57:08, Epoch 3/3]\n",
       "    </div>\n",
       "    <table border=\"1\" class=\"dataframe\">\n",
       "  <thead>\n",
       " <tr style=\"text-align: left;\">\n",
       "      <th>Epoch</th>\n",
       "      <th>Training Loss</th>\n",
       "      <th>Validation Loss</th>\n",
       "    </tr>\n",
       "  </thead>\n",
       "  <tbody>\n",
       "    <tr>\n",
       "      <td>1</td>\n",
       "      <td>0.713700</td>\n",
       "      <td>0.705976</td>\n",
       "    </tr>\n",
       "    <tr>\n",
       "      <td>2</td>\n",
       "      <td>0.689700</td>\n",
       "      <td>0.695690</td>\n",
       "    </tr>\n",
       "    <tr>\n",
       "      <td>3</td>\n",
       "      <td>0.702400</td>\n",
       "      <td>0.693831</td>\n",
       "    </tr>\n",
       "  </tbody>\n",
       "</table><p>"
      ],
      "text/plain": [
       "<IPython.core.display.HTML object>"
      ]
     },
     "metadata": {},
     "output_type": "display_data"
    },
    {
     "data": {
      "text/html": [
       "\n",
       "    <div>\n",
       "      \n",
       "      <progress value='47' max='47' style='width:300px; height:20px; vertical-align: middle;'></progress>\n",
       "      [47/47 03:57]\n",
       "    </div>\n",
       "    "
      ],
      "text/plain": [
       "<IPython.core.display.HTML object>"
      ]
     },
     "metadata": {},
     "output_type": "display_data"
    },
    {
     "data": {
      "text/plain": [
       "{'eval_loss': 0.6938309073448181,\n",
       " 'eval_runtime': 243.2157,\n",
       " 'eval_samples_per_second': 12.273,\n",
       " 'eval_steps_per_second': 0.193,\n",
       " 'epoch': 3.0}"
      ]
     },
     "execution_count": 10,
     "metadata": {},
     "output_type": "execute_result"
    }
   ],
   "source": [
    "from transformers import BertTokenizer, BertForSequenceClassification\n",
    "from transformers import Trainer, TrainingArguments\n",
    "import torch\n",
    "from sklearn.model_selection import train_test_split\n",
    "\n",
    "# Load the Pre-trained BERT Model and Tokenizer\n",
    "model_name = \"dccuchile/bert-base-spanish-wwm-cased\"\n",
    "tokenizer = BertTokenizer.from_pretrained(model_name)\n",
    "model = BertForSequenceClassification.from_pretrained(model_name, num_labels=2)\n",
    "\n",
    "# Step 2: Tokenize the Text Data\n",
    "def tokenize_texts(texts, max_len=128):\n",
    "    return tokenizer(\n",
    "        list(texts),\n",
    "        max_length=max_len,\n",
    "        truncation=True,\n",
    "        padding=\"max_length\",\n",
    "        return_tensors=\"pt\"\n",
    "    )\n",
    "\n",
    "# Tokenize the input text\n",
    "max_len = 128\n",
    "inputs = tokenize_texts(df[\"clean_text\"], max_len)\n",
    "labels = torch.tensor(df[\"label\"].values)\n",
    "\n",
    "# Split into train and test sets\n",
    "train_size = int(0.8 * len(inputs[\"input_ids\"]))\n",
    "X_train = {key: inputs[key][:train_size] for key in inputs.keys()}\n",
    "X_test = {key: inputs[key][train_size:] for key in inputs.keys()}\n",
    "y_train = labels[:train_size]\n",
    "y_test = labels[train_size:]\n",
    "\n",
    "# Step 3: Define Training Arguments\n",
    "training_args = TrainingArguments(\n",
    "    output_dir=\"./results\",         # Directory to save model checkpoints\n",
    "    num_train_epochs=3,             # Number of epochs\n",
    "    per_device_train_batch_size=16, # Batch size\n",
    "    per_device_eval_batch_size=64,  # Batch size for evaluation\n",
    "    warmup_steps=500,               # Warmup steps for learning rate scheduler\n",
    "    weight_decay=0.01,              # Weight decay\n",
    "    logging_dir=\"./logs\",           # Directory for logs\n",
    "    evaluation_strategy=\"epoch\",    # Evaluate at the end of each epoch\n",
    "    save_strategy=\"epoch\",          # Save model checkpoint at the end of each epoch\n",
    "    logging_steps=10                # Log every 10 steps\n",
    ")\n",
    "\n",
    "# Step 4: Prepare the Trainer\n",
    "from datasets import Dataset\n",
    "\n",
    "# Convert inputs and labels to Hugging Face Dataset format\n",
    "train_dataset = Dataset.from_dict({\n",
    "    \"input_ids\": X_train[\"input_ids\"],\n",
    "    \"attention_mask\": X_train[\"attention_mask\"],\n",
    "    \"labels\": y_train\n",
    "})\n",
    "\n",
    "test_dataset = Dataset.from_dict({\n",
    "    \"input_ids\": X_test[\"input_ids\"],\n",
    "    \"attention_mask\": X_test[\"attention_mask\"],\n",
    "    \"labels\": y_test\n",
    "})\n",
    "\n",
    "# Initialize the Trainer\n",
    "trainer = Trainer(\n",
    "    model=model,\n",
    "    args=training_args,\n",
    "    train_dataset=train_dataset,\n",
    "    eval_dataset=test_dataset\n",
    ")\n",
    "\n",
    "# Step 5: Train the Model\n",
    "trainer.train()\n",
    "\n",
    "# Step 6: Evaluate the Model\n",
    "trainer.evaluate()\n"
   ]
  },
  {
   "cell_type": "code",
   "execution_count": null,
   "id": "b32a3752",
   "metadata": {},
   "outputs": [],
   "source": [
    "import torch\n",
    "print(torch.__version__)  # Check installed PyTorch version\n",
    "print(torch.cuda.is_available())  # Confirm if CUDA is available\n",
    "print(torch.backends.cudnn.version())  # Check CuDNN version (if available)\n",
    "print(torch.cuda.device_count())  # Number of GPUs available\n",
    "print(torch.cuda.current_device())  # Current GPU being used\n",
    "print(torch.cuda.get_device_name(0))  # Name of the GPU"
   ]
  },
  {
   "cell_type": "code",
   "execution_count": null,
   "id": "b859bbfc",
   "metadata": {},
   "outputs": [],
   "source": [
    "from sklearn.metrics import accuracy_score, precision_recall_fscore_support\n",
    "import numpy as np\n",
    "import matplotlib.pyplot as plt\n",
    "import seaborn as sns\n",
    "from sklearn.metrics import confusion_matrix, accuracy_score, precision_recall_fscore_support\n",
    "\n",
    "\n",
    "def compute_metrics(pred):\n",
    "    # Extract predictions and true labels\n",
    "    predictions = pred.predictions.argmax(axis=-1)  # Convert logits to class predictions\n",
    "    labels = pred.label_ids\n",
    "    \n",
    "    # Calculate metrics\n",
    "    accuracy = accuracy_score(labels, predictions)\n",
    "    precision, recall, f1, _ = precision_recall_fscore_support(labels, predictions, average=\"binary\")\n",
    "    \n",
    "    # Return metrics as a dictionary\n",
    "    return {\n",
    "        \"accuracy\": accuracy,\n",
    "        \"precision\": precision,\n",
    "        \"recall\": recall,\n",
    "        \"f1\": f1\n",
    "    }\n",
    "\n",
    "trainer = Trainer(\n",
    "    model=model,\n",
    "    args=training_args,\n",
    "    train_dataset=train_dataset,\n",
    "    eval_dataset=test_dataset,\n",
    "    compute_metrics=compute_metrics  # Add the metrics computation function\n",
    ")\n",
    "\n",
    "trainer.evaluate()\n",
    "# Output\n",
    "{\n",
    "  \"eval_loss\": 0.693831,\n",
    "  \"eval_accuracy\": 0.76,\n",
    "  \"eval_precision\": 0.78,\n",
    "  \"eval_recall\": 0.72,\n",
    "  \"eval_f1\": 0.75,\n",
    "  \"eval_runtime\": 243.2,\n",
    "  \"eval_samples_per_second\": 12.273,\n",
    "  \"eval_steps_per_second\": 0.193,\n",
    "  \"epoch\": 3.0\n",
    "}\n",
    "\n",
    "predictions = trainer.predict(test_dataset)\n",
    "y_preds = predictions.predictions.argmax(axis=-1)\n",
    "y_true = predictions.label_ids\n",
    "\n",
    "# Compute confusion matrix\n",
    "cm = confusion_matrix(y_true, y_preds)\n",
    "\n",
    "# Print confusion matrix\n",
    "print(\"Confusion Matrix:\")\n",
    "print(cm)\n",
    "\n",
    "# Define class labels (adjust if you have more than two classes)\n",
    "class_labels = [\"Negative\", \"Positive\"]  # Modify as per your dataset labels\n",
    "\n",
    "# Plot confusion matrix as a heatmap\n",
    "plt.figure(figsize=(6, 5))\n",
    "sns.heatmap(cm, annot=True, fmt=\"d\", cmap=\"Blues\", xticklabels=class_labels, yticklabels=class_labels)\n",
    "plt.xlabel(\"Predicted Label\")\n",
    "plt.ylabel(\"True Label\")\n",
    "plt.title(\"Confusion Matrix\")\n",
    "plt.show()\n",
    "\n",
    "# Compute evaluation metrics\n",
    "accuracy = accuracy_score(y_true, y_preds)\n",
    "precision, recall, f1, _ = precision_recall_fscore_support(y_true, y_preds, average=\"binary\")\n",
    "\n",
    "# Print metrics\n",
    "print(f\"Accuracy: {accuracy:.4f}\")\n",
    "print(f\"Precision: {precision:.4f}\")\n",
    "print(f\"Recall: {recall:.4f}\")\n",
    "print(f\"F1 Score: {f1:.4f}\")\n"
   ]
  },
  {
   "cell_type": "markdown",
   "id": "088f3c09",
   "metadata": {},
   "source": [
    "## **6. Save Model for Deployment**"
   ]
  },
  {
   "cell_type": "code",
   "execution_count": 11,
   "id": "e8148470",
   "metadata": {},
   "outputs": [
    {
     "name": "stdout",
     "output_type": "stream",
     "text": [
      "Model saved!\n"
     ]
    }
   ],
   "source": [
    "import pickle\n",
    "with open('translation_classifier_1.pkl', 'wb') as f:\n",
    "    pickle.dump(model, f)\n",
    "print('Model saved!')"
   ]
  },
  {
   "cell_type": "markdown",
   "id": "1a5f0d9b",
   "metadata": {},
   "source": [
    "## **Next Steps 🚀**\n",
    "- Try different models (SVM, Random Forest, BERT).\n",
    "- Fine-tune hyperparameters.\n",
    "- Deploy using **FastAPI** or **Flask**.\n",
    "\n",
    "Happy coding! 🎯"
   ]
  }
 ],
 "metadata": {
  "kernelspec": {
   "display_name": "nlp_env",
   "language": "python",
   "name": "python3"
  },
  "language_info": {
   "codemirror_mode": {
    "name": "ipython",
    "version": 3
   },
   "file_extension": ".py",
   "mimetype": "text/x-python",
   "name": "python",
   "nbconvert_exporter": "python",
   "pygments_lexer": "ipython3",
   "version": "3.10.10"
  }
 },
 "nbformat": 4,
 "nbformat_minor": 5
}
