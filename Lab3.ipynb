{
 "cells": [
  {
   "cell_type": "code",
   "execution_count": 5,
   "id": "0a157eec-5e4d-459c-b35a-d1234cbd1585",
   "metadata": {},
   "outputs": [
    {
     "name": "stderr",
     "output_type": "stream",
     "text": [
      "[nltk_data] Downloading package stopwords to\n",
      "[nltk_data]     C:\\Users\\Ignacio/nltk_data...\n",
      "[nltk_data]   Package stopwords is already up-to-date!\n"
     ]
    },
    {
     "name": "stdout",
     "output_type": "stream",
     "text": [
      "Fitting 3 folds for each of 36 candidates, totalling 108 fits\n"
     ]
    },
    {
     "name": "stderr",
     "output_type": "stream",
     "text": [
      "C:\\Users\\Ignacio\\anaconda3\\Lib\\site-packages\\xgboost\\core.py:158: UserWarning: [10:05:57] WARNING: C:\\buildkite-agent\\builds\\buildkite-windows-cpu-autoscaling-group-i-0c55ff5f71b100e98-1\\xgboost\\xgboost-ci-windows\\src\\learner.cc:740: \n",
      "Parameters: { \"use_label_encoder\" } are not used.\n",
      "\n",
      "  warnings.warn(smsg, UserWarning)\n"
     ]
    },
    {
     "name": "stdout",
     "output_type": "stream",
     "text": [
      "Accuracy: 0.5005592841163311\n",
      "Classification Report:\n",
      "               precision    recall  f1-score   support\n",
      "\n",
      "           0       0.50      0.97      0.66      1788\n",
      "           1       0.51      0.03      0.06      1788\n",
      "\n",
      "    accuracy                           0.50      3576\n",
      "   macro avg       0.50      0.50      0.36      3576\n",
      "weighted avg       0.50      0.50      0.36      3576\n",
      "\n",
      "Improved predictions saved to REAL_DATA_Predictions_Improved.csv\n"
     ]
    },
    {
     "data": {
      "image/png": "[encoded data removed]",
      "text/plain": [
       "<Figure size 640x480 with 2 Axes>"
      ]
     },
     "metadata": {},
     "output_type": "display_data"
    }
   ],
   "source": [
    "# Import necessary libraries\n",
    "import pandas as pd\n",
    "import re\n",
    "import unicodedata\n",
    "from sklearn.model_selection import train_test_split, GridSearchCV\n",
    "from sklearn.feature_extraction.text import TfidfVectorizer\n",
    "from sklearn.metrics import classification_report, accuracy_score, confusion_matrix, ConfusionMatrixDisplay\n",
    "from xgboost import XGBClassifier\n",
    "from nltk.corpus import stopwords\n",
    "import nltk\n",
    "from imblearn.over_sampling import SMOTE\n",
    "\n",
    "# Download Spanish stopwords\n",
    "nltk.download(\"stopwords\")\n",
    "spanish_stop_words = stopwords.words(\"spanish\")\n",
    "additional_stop_words = [\"usted\", \"un\", \"una\", \"este\", \"esta\"]\n",
    "spanish_stop_words.extend(additional_stop_words)\n",
    "\n",
    "# Function to preprocess text\n",
    "def preprocess_text(text):\n",
    "    # Remove accents\n",
    "    text = unicodedata.normalize(\"NFKD\", text).encode(\"ascii\", \"ignore\").decode(\"utf-8\", \"ignore\")\n",
    "    # Remove special characters and numbers\n",
    "    text = re.sub(r\"[^a-zA-Z\\s]\", \"\", text)\n",
    "    # Convert to lowercase\n",
    "    text = text.lower()\n",
    "    return text.strip()\n",
    "\n",
    "# Function to load training data\n",
    "def load_training_data(file_path):\n",
    "    sentences = []\n",
    "    labels = []\n",
    "    with open(file_path, \"r\", encoding=\"utf-8\") as file:\n",
    "        for line in file:\n",
    "            parts = line.split(\"\\t\")\n",
    "            if len(parts) == 2:\n",
    "                sentences.append(preprocess_text(parts[1].strip()))\n",
    "                labels.append(int(parts[0]))\n",
    "    return sentences, labels\n",
    "\n",
    "# Load and preprocess training data\n",
    "training_file = \"TRAINING_DATA.txt\"\n",
    "sentences, labels = load_training_data(training_file)\n",
    "\n",
    "# Stratified train-test split\n",
    "X_train, X_test, y_train, y_test = train_test_split(\n",
    "    sentences, labels, test_size=0.2, random_state=42, stratify=labels\n",
    ")\n",
    "\n",
    "# TF-IDF vectorization\n",
    "vectorizer = TfidfVectorizer(\n",
    "    max_features=20000, ngram_range=(1, 3), stop_words=spanish_stop_words, sublinear_tf=True\n",
    ")\n",
    "X_train_tfidf = vectorizer.fit_transform(X_train)\n",
    "X_test_tfidf = vectorizer.transform(X_test)\n",
    "\n",
    "# Handle class imbalance using SMOTE\n",
    "smote = SMOTE(random_state=42)\n",
    "X_train_tfidf_resampled, y_train_resampled = smote.fit_resample(X_train_tfidf, y_train)\n",
    "\n",
    "# Hyperparameter tuning for XGBoost\n",
    "param_grid = {\n",
    "    \"n_estimators\": [100, 200],\n",
    "    \"max_depth\": [4, 6, 8],\n",
    "    \"learning_rate\": [0.01, 0.1, 0.2],\n",
    "    \"subsample\": [0.8, 1.0],\n",
    "}\n",
    "\n",
    "grid_search = GridSearchCV(\n",
    "    XGBClassifier(use_label_encoder=False, eval_metric=\"logloss\", random_state=42),\n",
    "    param_grid,\n",
    "    cv=3,\n",
    "    scoring=\"accuracy\",\n",
    "    verbose=2,\n",
    "    n_jobs=-1,\n",
    ")\n",
    "grid_search.fit(X_train_tfidf_resampled, y_train_resampled)\n",
    "\n",
    "# Best model from GridSearchCV\n",
    "best_clf = grid_search.best_estimator_\n",
    "\n",
    "# Evaluate the model on the test set\n",
    "y_pred = best_clf.predict(X_test_tfidf)\n",
    "print(\"Accuracy:\", accuracy_score(y_test, y_pred))\n",
    "print(\"Classification Report:\\n\", classification_report(y_test, y_pred))\n",
    "\n",
    "# Confusion Matrix\n",
    "cm = confusion_matrix(y_test, y_pred)\n",
    "disp = ConfusionMatrixDisplay(confusion_matrix=cm, display_labels=best_clf.classes_)\n",
    "disp.plot()\n",
    "\n",
    "# Function to load real data\n",
    "def load_real_data(file_path):\n",
    "    sentences = []\n",
    "    with open(file_path, \"r\", encoding=\"utf-8\") as file:\n",
    "        for line in file:\n",
    "            parts = line.split(\"\\t\")\n",
    "            if len(parts) > 1:\n",
    "                sentences.append(preprocess_text(parts[1].strip()))\n",
    "            else:\n",
    "                sentences.append(preprocess_text(line.strip()))\n",
    "    return sentences\n",
    "\n",
    "# Load real data\n",
    "real_file = \"REAL_DATA.txt\"\n",
    "real_sentences = load_real_data(real_file)\n",
    "\n",
    "# Predict labels for real data\n",
    "real_sentences_tfidf = vectorizer.transform(real_sentences)\n",
    "real_predictions = best_clf.predict(real_sentences_tfidf)\n",
    "\n",
    "# Save predictions to a CSV file\n",
    "output = pd.DataFrame({\"Sentence\": real_sentences, \"Prediction\": real_predictions})\n",
    "output.to_csv(\"REAL_DATA_Predictions_Improved.csv\", index=False, encoding=\"utf-8\")\n",
    "print(\"Improved predictions saved to REAL_DATA_Predictions_Improved.csv\")\n"
   ]
  },
  {
   "cell_type": "code",
   "execution_count": null,
   "id": "3030bcdb-2dd5-4a29-999a-5e6eda15c8a7",
   "metadata": {},
   "outputs": [],
   "source": []
  }
 ],
 "metadata": {
  "kernelspec": {
   "display_name": "Python 3 (ipykernel)",
   "language": "python",
   "name": "python3"
  },
  "language_info": {
   "codemirror_mode": {
    "name": "ipython",
    "version": 3
   },
   "file_extension": ".py",
   "mimetype": "text/x-python",
   "name": "python",
   "nbconvert_exporter": "python",
   "pygments_lexer": "ipython3",
   "version": "3.12.7"
  }
 },
 "nbformat": 4,
 "nbformat_minor": 5
}
