{
  "cells": [
    {
      "cell_type": "markdown",
      "metadata": {
        "id": "8agxDbStk0XE"
      },
      "source": [
        "# Training and Testing Support Vector Machine"
      ]
    },
    {
      "cell_type": "markdown",
      "metadata": {
        "id": "qtVCiIH8lL07"
      },
      "source": [
        "### Importing and Loading"
      ]
    },
    {
      "cell_type": "code",
      "execution_count": 2,
      "metadata": {
        "colab": {
          "base_uri": "https://localhost:8080/"
        },
        "id": "jyMHoRNlkT40",
        "outputId": "09077413-f753-48f1-8f23-55f1c3d2332e"
      },
      "outputs": [
        {
          "name": "stderr",
          "output_type": "stream",
          "text": [
            "[nltk_data] Downloading package stopwords to\n",
            "[nltk_data]     C:\\Users\\jurge\\AppData\\Roaming\\nltk_data...\n",
            "[nltk_data]   Package stopwords is already up-to-date!\n",
            "[nltk_data] Downloading package wordnet to\n",
            "[nltk_data]     C:\\Users\\jurge\\AppData\\Roaming\\nltk_data...\n",
            "[nltk_data]   Package wordnet is already up-to-date!\n"
          ]
        }
      ],
      "source": [
        "# Import resources\n",
        "import pandas as pd\n",
        "from sklearn.model_selection import train_test_split\n",
        "from sklearn.feature_extraction.text import TfidfVectorizer\n",
        "from sklearn.svm import SVC\n",
        "from sklearn.metrics import accuracy_score, classification_report\n",
        "from nltk.corpus import stopwords\n",
        "import re\n",
        "from nltk.stem import WordNetLemmatizer\n",
        "import nltk\n",
        "import matplotlib.pyplot as plt\n",
        "\n",
        "nltk.download('stopwords')\n",
        "nltk.download('wordnet')\n",
        "\n",
        "# Load dataset\n",
        "data = pd.read_csv(\"training_data_lowercase.csv\", sep=\"\\t\", header=None, names=[\"label\", \"text\"])"
      ]
    },
    {
      "cell_type": "markdown",
      "metadata": {
        "id": "U_o5NJ5DlSPz"
      },
      "source": [
        "### Cleaning Dataframe"
      ]
    },
    {
      "cell_type": "code",
      "execution_count": 3,
      "metadata": {
        "id": "3jUzj8CukatQ"
      },
      "outputs": [],
      "source": [
        "# Preprocessing function\n",
        "def preprocess_text(text):\n",
        "    stop_words = set(stopwords.words('english'))\n",
        "    lemmatizer = WordNetLemmatizer()\n",
        "    text = re.sub(r'\\W', ' ', text)  # Remove non-alphanumeric characters\n",
        "    words = text.split()  # Simple split for tokenization\n",
        "    words = [lemmatizer.lemmatize(word) for word in words if word not in stop_words]\n",
        "    return ' '.join(words)\n",
        "\n",
        "# Apply preprocessing\n",
        "data['text'] = data['text'].apply(preprocess_text)\n",
        "\n",
        "# Convert labels to integers\n",
        "data['label'] = data['label'].astype(int)\n",
        "\n",
        "# Split dataset\n",
        "X_train, X_test, y_train, y_test = train_test_split(data['text'], data['label'], test_size=0.3, random_state=42)\n",
        "\n",
        "# TF-IDF Vectorization\n",
        "tfidf_vectorizer = TfidfVectorizer(ngram_range=(1, 2), max_features=10000)\n",
        "X_train_tfidf = tfidf_vectorizer.fit_transform(X_train)\n",
        "X_test_tfidf = tfidf_vectorizer.transform(X_test)"
      ]
    },
    {
      "cell_type": "markdown",
      "metadata": {
        "id": "2J5j2jYulhnW"
      },
      "source": [
        "### Training Model"
      ]
    },
    {
      "cell_type": "code",
      "execution_count": 4,
      "metadata": {
        "id": "9xctAVWskfb9"
      },
      "outputs": [],
      "source": [
        "# Simplified SVM Model\n",
        "svm = SVC(kernel='linear', random_state=42)\n",
        "svm.fit(X_train_tfidf, y_train)\n",
        "\n",
        "# Predictions\n",
        "svm_train_pred = svm.predict(X_train_tfidf)\n",
        "svm_test_pred = svm.predict(X_test_tfidf)\n",
        "\n",
        "# Evaluation\n",
        "svm_train_accuracy = accuracy_score(y_train, svm_train_pred)\n",
        "svm_test_accuracy = accuracy_score(y_test, svm_test_pred)\n",
        "svm_report = classification_report(y_test, svm_test_pred)"
      ]
    },
    {
      "cell_type": "markdown",
      "metadata": {
        "id": "0OpF9mzrlosf"
      },
      "source": [
        "### Model Results"
      ]
    },
    {
      "cell_type": "code",
      "execution_count": 5,
      "metadata": {
        "colab": {
          "base_uri": "https://localhost:8080/",
          "height": 833
        },
        "id": "zjqAj5UukkV-",
        "outputId": "94cde6aa-5f9e-42cb-c4d5-d41d8beaa8a0"
      },
      "outputs": [
        {
          "name": "stdout",
          "output_type": "stream",
          "text": [
            "SVM Results:\n",
            "Training Accuracy: 0.97\n",
            "Testing Accuracy: 0.94\n",
            "Classification Report:\n",
            "              precision    recall  f1-score   support\n",
            "\n",
            "           0       0.95      0.94      0.94      5295\n",
            "           1       0.93      0.95      0.94      4951\n",
            "\n",
            "    accuracy                           0.94     10246\n",
            "   macro avg       0.94      0.94      0.94     10246\n",
            "weighted avg       0.94      0.94      0.94     10246\n",
            "\n"
          ]
        },
        {
          "data": {
            "image/png": "[encoded data removed]",
            "text/plain": [
              "<Figure size 800x600 with 1 Axes>"
            ]
          },
          "metadata": {},
          "output_type": "display_data"
        }
      ],
      "source": [
        "# Output Results\n",
        "print(\"SVM Results:\")\n",
        "print(f\"Training Accuracy: {svm_train_accuracy:.2f}\")\n",
        "print(f\"Testing Accuracy: {svm_test_accuracy:.2f}\")\n",
        "print(\"Classification Report:\")\n",
        "print(svm_report)\n",
        "\n",
        "# Graphical Representation\n",
        "plt.figure(figsize=(8, 6))\n",
        "bars = ['Training Accuracy', 'Testing Accuracy']\n",
        "accuracy_values = [svm_train_accuracy, svm_test_accuracy]\n",
        "\n",
        "plt.bar(bars, accuracy_values, color=['blue', 'orange'])\n",
        "plt.ylim(0, 1)\n",
        "plt.ylabel('Accuracy')\n",
        "plt.title('SVM Training vs Testing Accuracy')\n",
        "plt.tight_layout()\n",
        "plt.show()"
      ]
    },
    {
      "cell_type": "markdown",
      "metadata": {
        "id": "OKQJ3-vwltOz"
      },
      "source": [
        "# Apply SVM to unlabeled data"
      ]
    },
    {
      "cell_type": "markdown",
      "metadata": {
        "id": "rlJ4JFqpmmvf"
      },
      "source": [
        "\n",
        "### Clean Dataframe"
      ]
    },
    {
      "cell_type": "code",
      "execution_count": 6,
      "metadata": {
        "colab": {
          "base_uri": "https://localhost:8080/"
        },
        "id": "A9JkJyPbX5bA",
        "outputId": "1cf7f562-eae2-40ae-dd77-d30646607408"
      },
      "outputs": [
        {
          "name": "stdout",
          "output_type": "stream",
          "text": [
            "<bound method NDFrame.head of      label                                               text\n",
            "0        2   copycat muslim terrorist arrested assault weapon\n",
            "1        2  wow chicago protester caught camera admits vio...\n",
            "2        2           germany fdp look fill schaeuble big shoe\n",
            "3        2  mi school sends welcome back packet warning ki...\n",
            "4        2  u n seek massive aid boost amid rohingya emerg...\n",
            "...    ...                                                ...\n",
            "9979     2  boom fox news leftist chris wallace attempt tr...\n",
            "9980     2  list democrat hypocrite voted filibuster gw bu...\n",
            "9981     2  new fire ravage rohingya village northwest mya...\n",
            "9982     2  meal wheel shuts lyin lefty truth moveon org f...\n",
            "9983     2  brilliant tucker carlson ayaan hirsi ali discu...\n",
            "\n",
            "[9984 rows x 2 columns]>\n"
          ]
        }
      ],
      "source": [
        "# Load the unlabeled data\n",
        "unlabeled_data = pd.read_csv(\"testing_data_lowercase_nolabels.csv\", sep=\"\\t\", header=None, names=[\"label\", \"text\"])\n",
        "data = pd.read_csv(\"training_data_lowercase.csv\", sep=\"\\t\", header=None, names=[\"label\", \"text\"])\n",
        "\n",
        "# Preprocess the text\n",
        "unlabeled_data['text'] = unlabeled_data['text'].apply(preprocess_text)\n",
        "\n",
        "# Transform the unlabeled data\n",
        "X_unlabeled_tfidf = tfidf_vectorizer.transform(unlabeled_data['text'])\n",
        "\n",
        "print(unlabeled_data.head)"
      ]
    },
    {
      "cell_type": "markdown",
      "metadata": {
        "id": "UsWBnA9dmuzp"
      },
      "source": [
        "### Run Model"
      ]
    },
    {
      "cell_type": "code",
      "execution_count": 9,
      "metadata": {
        "colab": {
          "base_uri": "https://localhost:8080/",
          "height": 694
        },
        "id": "d6cJe7aJWZuE",
        "outputId": "de9e92de-6be7-4ab7-b756-e46c17dd51cc"
      },
      "outputs": [
        {
          "data": {
            "image/png": "[encoded data removed]",
            "text/plain": [
              "<Figure size 800x600 with 1 Axes>"
            ]
          },
          "metadata": {},
          "output_type": "display_data"
        },
        {
          "name": "stdout",
          "output_type": "stream",
          "text": [
            "Predicted Label Distribution:\n",
            "predicted_class\n",
            "True    5244\n",
            "Fake    4740\n",
            "Name: count, dtype: int64\n"
          ]
        }
      ],
      "source": [
        "# Predict unlabeled data\n",
        "predicted_labels = svm.predict(X_unlabeled_tfidf)\n",
        "\n",
        "# Map numerical predictions to classes\n",
        "label_mapping = {0: \"Fake\", 1: \"True\"}\n",
        "unlabeled_data['predicted_class'] = pd.Series(predicted_labels).map(label_mapping)\n",
        "\n",
        "# Overwrite the original labels\n",
        "unlabeled_data['label'] = predicted_labels\n",
        "\n",
        "# Add additional column\n",
        "unlabeled_data.insert(\n",
        "    unlabeled_data.columns.get_loc('text') + 1, \n",
        "    'predicted_class',                 \n",
        "    unlabeled_data.pop('predicted_class') \n",
        ")\n",
        "\n",
        "# Save the updated dataframe\n",
        "unlabeled_data_path = 'unlabeled_data.csv'\n",
        "unlabeled_data.to_csv(unlabeled_data_path, index=False)\n",
        "\n",
        "# Plot the distribution of categories\n",
        "label_counts = unlabeled_data['predicted_class'].value_counts()\n",
        "\n",
        "plt.figure(figsize=(8, 6))\n",
        "label_counts.plot(kind='bar', color=['green', 'red'])\n",
        "plt.title('Predicted Label Distribution (Fake vs. True)')\n",
        "plt.xlabel('Labels')\n",
        "plt.ylabel('Count')\n",
        "plt.xticks(rotation=0)\n",
        "plt.tight_layout()\n",
        "plt.show()\n",
        "\n",
        "# Print distribution counts for inspection\n",
        "print(\"Predicted Label Distribution:\")\n",
        "print(label_counts)\n"
      ]
    },
    {
      "cell_type": "code",
      "execution_count": null,
      "metadata": {},
      "outputs": [],
      "source": []
    }
  ],
  "metadata": {
    "colab": {
      "provenance": []
    },
    "kernelspec": {
      "display_name": "base",
      "language": "python",
      "name": "python3"
    },
    "language_info": {
      "codemirror_mode": {
        "name": "ipython",
        "version": 3
      },
      "file_extension": ".py",
      "mimetype": "text/x-python",
      "name": "python",
      "nbconvert_exporter": "python",
      "pygments_lexer": "ipython3",
      "version": "3.12.7"
    }
  },
  "nbformat": 4,
  "nbformat_minor": 0
}
